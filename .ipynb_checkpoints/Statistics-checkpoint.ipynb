{
 "cells": [
  {
   "cell_type": "code",
   "execution_count": null,
   "id": "6f7e1495-f495-4a94-b8a8-9e99da805a1b",
   "metadata": {},
   "outputs": [],
   "source": [
    "import matplotlib.pyplot as plt\n",
    "import numpy as np\n",
    "\n",
    "# Example data\n",
    "data = [23, 29, 25, 30, 24, 28, 22, 30, 24, 25, 27, 28]\n",
    "\n",
    "# Create histogram\n",
    "plt.hist(data, bins=5, edgecolor='black')  # 5 bins, black edges for clarity\n",
    "\n",
    "# Add title and labels\n",
    "plt.title('Age Distribution')\n",
    "plt.xlabel('Age')\n",
    "plt.ylabel('Frequency')\n",
    "\n",
    "# Show plot\n",
    "plt.show()\n"
   ]
  },
  {
   "cell_type": "code",
   "execution_count": null,
   "id": "8840697d-54fc-41ed-9007-70ed279b7dad",
   "metadata": {},
   "outputs": [],
   "source": []
  }
 ],
 "metadata": {
  "kernelspec": {
   "display_name": "Python 3 (ipykernel)",
   "language": "python",
   "name": "python3"
  },
  "language_info": {
   "codemirror_mode": {
    "name": "ipython",
    "version": 3
   },
   "file_extension": ".py",
   "mimetype": "text/x-python",
   "name": "python",
   "nbconvert_exporter": "python",
   "pygments_lexer": "ipython3",
   "version": "3.12.4"
  }
 },
 "nbformat": 4,
 "nbformat_minor": 5
}
