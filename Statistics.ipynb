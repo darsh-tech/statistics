{
 "cells": [
  {
   "cell_type": "markdown",
   "id": "8f95b2f4-3d05-403f-8ec5-a2a9af76746a",
   "metadata": {},
   "source": [
    "# LEARNING STATISTICS FOR MACHINE LEARNING\n",
    "Here All statistics methods that  are  required for ML are explained by implementing through examples"
   ]
  },
  {
   "cell_type": "markdown",
   "id": "0fa5931a-2bc9-4694-af69-c9b352e61379",
   "metadata": {},
   "source": [
    "# Introduction to Statistics\n",
    "\n",
    "Statistics is the branch of mathematics that deals with data collection, analysis, interpretation, presentation, and organization. It can be divided into two main areas:\n",
    "- **Descriptive Statistics**: Describes and summarizes data.\n",
    "- **Inferential Statistics**: Makes inferences and predictions about a population based on a sample.\n",
    "\n",
    "In this notebook, we will focus on key statistical concepts, with practical examples using Python.\n"
   ]
  },
  {
   "cell_type": "markdown",
   "id": "2759379d-ba41-4a22-aa11-baa59243ea8e",
   "metadata": {},
   "source": [
    "## 1. Descriptive Statistics (Data Understanding)\r\n",
    "\r\n",
    "In Machine Learning, understanding your data is crucial before feeding it into models. Descriptive statistics help you get a sense of the data.\r\n",
    "\r\n",
    "### Measures of Central Tendency: Mean, Median, Mode\r\n",
    "These help summarize the center of your data, providing insight into typical values.\r\n",
    "\r\n",
    "- **Mean**: The average of all data points.\r\n",
    "- **Median**: The middle value when data is sorted in ascending order.\r\n",
    "- **Mode**: The most frequent value in the dataset.\r\n",
    "\r\n",
    "### Measures of Dispersion: Variance, Standard Deviation, Range\r\n",
    "These show how spread out your data is, which is vital for understanding model stability.\r\n",
    "\r\n",
    "- **Variance**: Measures the spread of data points from the mean.\r\n",
    "- **Standard Deviation**: The square root of the variance, indicating how much data deviates from the mean.\r\n",
    "- **Range**: The difference between the maximum and minimum values in the dataset.\r\n",
    "\r\n",
    "### Why is it important for Machine Learning?\r\n",
    "\r\n",
    "- Helps you understand the distribution and characteristics of data before applying algorithms.\r\n",
    "- Identifies potential problems like outliers and skewed distributions, which can affect models like linear regression.\r\n"
   ]
  },
  {
   "cell_type": "markdown",
   "id": "7de23058-80a1-4dae-b2a2-ca88798b7a98",
   "metadata": {},
   "source": [
    "### Example"
   ]
  },
  {
   "cell_type": "code",
   "execution_count": 6,
   "id": "f634218b-b99e-42db-b889-138c39848a92",
   "metadata": {},
   "outputs": [
    {
     "data": {
      "text/plain": [
       "(13.8, 13.5, 2.8982753492378874)"
      ]
     },
     "execution_count": 6,
     "metadata": {},
     "output_type": "execute_result"
    }
   ],
   "source": [
    "import pandas as pd\n",
    "\n",
    "# Example dataset\n",
    "data = [12, 15, 12, 10, 14, 19, 18, 14, 13, 11]\n",
    "data_series = pd.Series(data)\n",
    "\n",
    "# Calculate mean, median, standard deviation\n",
    "mean = data_series.mean()\n",
    "median = data_series.median()\n",
    "std_dev = data_series.std()\n",
    "\n",
    "mean, median, std_dev\n"
   ]
  },
  {
   "cell_type": "code",
   "execution_count": null,
   "id": "3c07b9c9-8c40-4342-9cc5-618469615184",
   "metadata": {},
   "outputs": [],
   "source": []
  }
 ],
 "metadata": {
  "kernelspec": {
   "display_name": "Python 3 (ipykernel)",
   "language": "python",
   "name": "python3"
  },
  "language_info": {
   "codemirror_mode": {
    "name": "ipython",
    "version": 3
   },
   "file_extension": ".py",
   "mimetype": "text/x-python",
   "name": "python",
   "nbconvert_exporter": "python",
   "pygments_lexer": "ipython3",
   "version": "3.12.4"
  }
 },
 "nbformat": 4,
 "nbformat_minor": 5
}
